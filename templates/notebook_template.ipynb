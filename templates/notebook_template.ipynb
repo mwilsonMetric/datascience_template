{
 "cells": [
  {
   "cell_type": "markdown",
   "metadata": {},
   "source": [
    "# Antes de trabajar con notebooks!\n",
    "Recordar ejecutar el siguiente codigo en la consola para evitar hacer control de version graficos\n",
    "```\n",
    "nbstripout --install\n",
    "```"
   ]
  },
  {
   "cell_type": "code",
   "execution_count": null,
   "metadata": {},
   "outputs": [],
   "source": [
    "import os\n",
    "while not any([x in  [\".git\",\"files\"] for x in os.listdir()]):\n",
    "  os.chdir(\"..\")\n",
    "print(\"Working Directory: \" + os.getcwd())\n",
    "\n",
    "import sys\n",
    "if not os.getcwd() in sys.path:\n",
    "    sys.path.append(os.getcwd())"
   ]
  }
 ],
 "metadata": {
  "@webio": {
   "lastCommId": "3601a6004a3b464fbc6b6a611ed4e849",
   "lastKernelId": "bb931652-a2e7-4b3d-870d-a701b8a2d689"
  },
  "kernelspec": {
   "display_name": "Python 3",
   "language": "python",
   "name": "python3"
  },
  "language_info": {
   "codemirror_mode": {
    "name": "ipython",
    "version": 3
   },
   "file_extension": ".py",
   "mimetype": "text/x-python",
   "name": "python",
   "nbconvert_exporter": "python",
   "pygments_lexer": "ipython3",
   "version": "3.7.1"
  }
 },
 "nbformat": 4,
 "nbformat_minor": 2
}
